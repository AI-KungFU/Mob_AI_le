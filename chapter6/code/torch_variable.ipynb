{
 "cells": [
  {
   "cell_type": "code",
   "execution_count": 6,
   "metadata": {},
   "outputs": [
    {
     "name": "stdout",
     "output_type": "stream",
     "text": [
      "tensor([[1., 2., 3.],\n",
      "        [4., 5., 6.]])\n",
      "tensor([[1., 2., 3.],\n",
      "        [4., 5., 6.]], requires_grad=True)\n",
      "tensor(15.1667)\n",
      "tensor(15.1667, grad_fn=<MeanBackward1>)\n",
      "tensor([[0.3333, 0.6667, 1.0000],\n",
      "        [1.3333, 1.6667, 2.0000]])\n",
      "Data in the variabletensor([[1., 2., 3.],\n",
      "        [4., 5., 6.]], requires_grad=True)\n",
      "tensor([[1., 2., 3.],\n",
      "        [4., 5., 6.]])\n",
      "[[1. 2. 3.]\n",
      " [4. 5. 6.]]\n"
     ]
    },
    {
     "data": {
      "text/plain": [
       "'\\n[[ 1.  2.]\\n [ 3.  4.]]\\n'"
      ]
     },
     "execution_count": 6,
     "metadata": {},
     "output_type": "execute_result"
    }
   ],
   "source": [
    "import torch\n",
    "from torch.autograd import Variable\n",
    "\n",
    "# Variable in torch is to build a computational graph,\n",
    "# but this graph is dynamic compared with a static graph in Tensorflow or Theano.\n",
    "# So torch does not have placeholder, torch can just pass variable to the computational graph.\n",
    "\n",
    "tensor = torch.FloatTensor([[1,2,3],[4,5,6]])            # build a tensor\n",
    "variable = Variable(tensor, requires_grad=True)      # build a variable, usually for compute gradients\n",
    "\n",
    "print(tensor)       # [torch.FloatTensor of size 2x3]\n",
    "print(variable)     # [torch.FloatTensor of size 2x3]\n",
    "\n",
    "# till now the tensor and variable seem the same.\n",
    "# However, the variable is a part of the graph, it's a part of the auto-gradient.\n",
    "\n",
    "t_out = torch.mean(tensor*tensor)       # x^2\n",
    "v_out = torch.mean(variable*variable)   # x^2\n",
    "print(t_out)\n",
    "print(v_out)    # 7.5\n",
    "\n",
    "v_out.backward()    # backpropagation from v_out\n",
    "# v_out = 1/4 * sum(variable*variable)\n",
    "# the gradients w.r.t the variable, d(v_out)/d(variable) = 1/4*2*variable = variable/2\n",
    "print(variable.grad)\n",
    "'''\n",
    " 0.5000  1.0000\n",
    " 1.5000  2.0000\n",
    "'''\n",
    "\n",
    "print(\"Data in the variable: \"+str(variable))     # this is data in variable format\n",
    "\"\"\"\n",
    "Variable containing:\n",
    " 1  2\n",
    " 3  4\n",
    "[torch.FloatTensor of size 2x2]\n",
    "\"\"\"\n",
    "\n",
    "print(variable.data)    # this is data in tensor format\n",
    "\"\"\"\n",
    " 1  2\n",
    " 3  4\n",
    "[torch.FloatTensor of size 2x2]\n",
    "\"\"\"\n",
    "\n",
    "print(variable.data.numpy())    # numpy format\n",
    "\"\"\"\n",
    "[[ 1.  2.]\n",
    " [ 3.  4.]]\n",
    "\"\"\"\n"
   ]
  },
  {
   "cell_type": "code",
   "execution_count": null,
   "metadata": {},
   "outputs": [],
   "source": []
  }
 ],
 "metadata": {
  "kernelspec": {
   "display_name": "Python 3",
   "language": "python",
   "name": "python3"
  },
  "language_info": {
   "codemirror_mode": {
    "name": "ipython",
    "version": 3
   },
   "file_extension": ".py",
   "mimetype": "text/x-python",
   "name": "python",
   "nbconvert_exporter": "python",
   "pygments_lexer": "ipython3",
   "version": "3.7.2"
  }
 },
 "nbformat": 4,
 "nbformat_minor": 2
}
